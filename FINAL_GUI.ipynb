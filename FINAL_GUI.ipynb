{
 "cells": [
  {
   "cell_type": "code",
   "execution_count": null,
   "metadata": {},
   "outputs": [],
   "source": [
    "# GUI libraries\n",
    "import panel as pn\n",
    "import holoviews as hv\n",
    "import hvplot.pandas\n",
    "from holoviews import opts, dim\n",
    "from holoviews.streams import Stream\n",
    "import param\n",
    "import os\n",
    "\n",
    "pn.extension(sizing_mode='stretch_width') # Set responsive panel\n",
    "hv.extension('bokeh', logo=False)\n",
    "\n",
    "# Code libraries"
   ]
  },
  {
   "attachments": {},
   "cell_type": "markdown",
   "metadata": {},
   "source": [
    "<h3> Params </h3>"
   ]
  },
  {
   "cell_type": "code",
   "execution_count": null,
   "metadata": {},
   "outputs": [],
   "source": [
    "CSV_PATH = os.path.join(os.getcwd(), 'data')\n",
    "\n",
    "data_directory = os.listdir(CSV_PATH)\n",
    "\n",
    "class GeneralConfig(param.Parameterized):\n",
    "    database  = param.Selector(objects=data_directory)\n",
    "    algorithm  = param.Selector(objects=['GA-ELM', \n",
    "                                         'PSO-ELM', \n",
    "                                         'CRO-ELM'], default='GA-ELM')\n",
    "    seed = param.Parameter(default=1234, doc=\"Seed for the random number generator\")\n",
    "    generations = param.Integer(default=10, bounds=(1, 50))\n",
    "    population_size = param.Number(default=10, bounds=(1, 200), step=1)\n",
    "    hidden_neurons = param.Integer(default=1, bounds=(0, 1000), step=50)\n",
    "    complexity = param.Selector(objects=[1e-3, 1e-2, 1e-1, 1, 1e1, 1e2, 1e3], default=1)"
   ]
  },
  {
   "cell_type": "code",
   "execution_count": null,
   "metadata": {},
   "outputs": [],
   "source": [
    "# GENERAL\n",
    "general_params = GeneralConfig()\n",
    "configuration = pn.widgets.StaticText(name='Configuration', value='', width=500, height=50)\n",
    "\n",
    "# GA PARAMS\n",
    "crossover_probability_slider = pn.widgets.FloatSlider(name='Crossover Probability', start=0, end=1, value=0.5)\n",
    "mutation_probability_slider = pn.widgets.FloatSlider(name='Mutation Probability', start=0, end=1, value=0.5)\n",
    "\n",
    "# PSO PARAMS\n",
    "inertia_weight_slider = pn.widgets.FloatSlider(name='Inertia Weight (w)', start=0, end=1, value=0.5)\n",
    "cognitive_component_slider = pn.widgets.FloatSlider(name='Cognitive Component (c1)', start=0, end=1, value=0.5)\n",
    "social_component_slider = pn.widgets.FloatSlider(name='Social Component (c2)', start=0, end=1, value=0.5)\n",
    "\n",
    "# CRO PARAMS\n",
    "reef_size_slider = pn.widgets.IntSlider(name='Reef Size', start=0, end=100, value=50)\n",
    "occupied_corals_slider = pn.widgets.IntSlider(name='Occupied Colonies', start=0, end=reef_size_slider.value, value=50)"
   ]
  },
  {
   "attachments": {},
   "cell_type": "markdown",
   "metadata": {},
   "source": [
    "<h3> Events </h3>"
   ]
  },
  {
   "cell_type": "code",
   "execution_count": null,
   "metadata": {},
   "outputs": [],
   "source": [
    "reset_params_button = pn.widgets.Button(name='Reset Parameters', width=50)\n",
    "run_button = pn.widgets.Button(name='\\u25b6 Begin algorithm', width=50)\n",
    "export_results_button = pn.widgets.Button(name='Export Results', width=50)\n",
    "next_generation_button = pn.widgets.Button(name='Next Generation', width=50)"
   ]
  },
  {
   "cell_type": "code",
   "execution_count": null,
   "metadata": {},
   "outputs": [],
   "source": [
    "\n",
    "instructions = pn.pane.Markdown('''\n",
    "# Bio-Inspired Optimization Algorithms in Extreme Learning Machine\n",
    "## Instructions: \n",
    "1. Click '\\u25b6 Begin Improving' button to begin improving for the time on the Time Evolving slider. \n",
    "2. Experiment with the sliders \n",
    "''')\n",
    "\n",
    "ga_column = pn.Column(crossover_probability_slider, mutation_probability_slider)\n",
    "pso_column = pn.Column(inertia_weight_slider, cognitive_component_slider, social_component_slider)\n",
    "cro_column = pn.Column(reef_size_slider, occupied_corals_slider)\n",
    "\n",
    "# Create a column for the parameters\n",
    "parameters_column = pn.Column(general_params, ga_column, pso_column, cro_column)\n",
    "\n",
    "# Create a column for the visualization\n",
    "visualization_column = pn.Column(instructions, configuration)\n",
    "\n",
    "# Create a column for the buttons\n",
    "\n",
    "\n",
    "dashboard = pn.Row(visualization_column, parameters_column)\n",
    "\n",
    "dashboard.background = '#fff'\n",
    "\n",
    "\n",
    "# Open the dashboard in a local server \n",
    "dashboard.servable()"
   ]
  },
  {
   "cell_type": "code",
   "execution_count": null,
   "metadata": {},
   "outputs": [],
   "source": [
    "'''\n",
    "import param\n",
    "import holoviews as hv\n",
    "import panel as pn\n",
    "\n",
    "class TFG(param.Parameterized):\n",
    "    database  = param.Selector(objects=data_directory)\n",
    "    algorithm  = param.Selector(objects=['GA-ELM', 'PSO-ELM', 'CRO-ELM'])\n",
    "    seed = param.Parameter(default=1234, doc=\"Seed for the random number generator\")\n",
    "    generations = param.Integer(default=10, bounds=(1, 50))\n",
    "    population_size = param.Number(default=10, bounds=(1, 200), step=1)\n",
    "    hidden_neurons = param.Integer(default=1, bounds=(0, 1000), step=50)\n",
    "    complexity = param.Selector(objects=[1e-3, 1e-2, 1e-1, 1, 1e1, 1e2, 1e3], default=1)\n",
    "\n",
    "def reset_values(event):\n",
    "    tfg = event.obj\n",
    "    tfg.database = data_directory[0]\n",
    "    tfg.algorithm = 'GA-ELM'\n",
    "    tfg.seed = 1234\n",
    "    tfg.generations = 10\n",
    "    tfg.population_size = 10\n",
    "    tfg.hidden_neurons = 1\n",
    "    tfg.complexity = 1\n",
    "\n",
    "reset_button = pn.widgets.Button(name='Reset to defaults', button_type='danger')\n",
    "reset_button.on_click(reset_values)\n",
    "\n",
    "tfg = TFG()\n",
    "params = pn.Param(tfg, widgets={'database': pn.widgets.Select,\n",
    "                                 'algorithm': pn.widgets.RadioButtonGroup,\n",
    "                                 'seed': pn.widgets.IntSlider,\n",
    "                                 'generations': pn.widgets.IntSlider,\n",
    "                                 'population_size': pn.widgets.FloatSlider,\n",
    "                                 'hidden_neurons': pn.widgets.IntSlider,\n",
    "                                 'complexity': pn.widgets.FloatSlider})\n",
    "\n",
    "app = pn.Row(params, reset_button)\n",
    "app.servable()\n",
    "  \n",
    "'''"
   ]
  }
 ],
 "metadata": {
  "kernelspec": {
   "display_name": "base",
   "language": "python",
   "name": "python3"
  },
  "language_info": {
   "codemirror_mode": {
    "name": "ipython",
    "version": 3
   },
   "file_extension": ".py",
   "mimetype": "text/x-python",
   "name": "python",
   "nbconvert_exporter": "python",
   "pygments_lexer": "ipython3",
   "version": "3.9.12"
  },
  "orig_nbformat": 4,
  "vscode": {
   "interpreter": {
    "hash": "f78ee2afb6780ee7c503ce8574de99235e0dee811ecbe3bf0e97bc56f6e68502"
   }
  }
 },
 "nbformat": 4,
 "nbformat_minor": 2
}
