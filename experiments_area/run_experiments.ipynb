{
 "cells": [
  {
   "cell_type": "code",
   "execution_count": null,
   "metadata": {},
   "outputs": [],
   "source": [
    "import pandas as pd\n",
    "import random\n",
    "\n",
    "from ELM import *\n",
    "from GA import *\n",
    "from PSO import *\n",
    "from CRO import *\n",
    "from algorithms import *\n",
    "from configuration import *\n",
    "import main\n",
    "\n",
    "# Instantiate the list of seeds for which we want to run the algorithms\n",
    "seeds = [42, 93, 144, 245, 546, 1047, 2048, 4549, 9850, 10051] # To use: 42, 93, 144, 245, 546, 1047, 2048, 4549, 9850, 10051\n",
    "\n",
    "for s in seeds:\n",
    "    # Set the global seed \n",
    "    np.random.seed(s)\n",
    "    random.seed(s)\n",
    "\n",
    "    # Execute the main function\n",
    "    print(f''' ---- Seed {s} ----\n",
    "      Configurations:\n",
    "        POPULATION_SIZE: {POPULATION_SIZE}  \n",
    "        MAX_GENERATIONS: {MAX_GENERATIONS}\n",
    "        OPTIMAL_D: {OPTIMAL_D}\n",
    "        OPTIMAL_C: {OPTIMAL_C}\n",
    "        CROSSOVER_PROBABILITY: {CROSSOVER_PROBABILITY}\n",
    "        MUTATION_PROBABILITY: {MUTATION_PROBABILITY}\n",
    "        W_MAX: {W_MAX}\n",
    "        W_MIN: {W_MIN}\n",
    "        C1: {C1}\n",
    "        C2: {C2}\n",
    "        RHO_0: {RHO_0}\n",
    "        ETA: {ETA}\n",
    "        BROADCAST_FRACTION: {BROADCAST_FRACTION}\n",
    "        ASEXUAL_FRACTION: {ASEXUAL_FRACTION}\n",
    "        PREDATION_FRACTION: {PREDATION_FRACTION}\n",
    "        ASEXUAL_PROBABILITY: {ASEXUAL_PROBABILITY}\n",
    "        PREDATION_PROBABILITY: {PREDATION_PROBABILITY}\n",
    "    \n",
    "    ---- ---- ''')\n",
    "    main.main(seed=s,\n",
    "              POPULATION_SIZE= POPULATION_SIZE,\n",
    "              MAX_GENERATIONS= MAX_GENERATIONS,\n",
    "              OPTIMAL_D= OPTIMAL_D,\n",
    "              OPTIMAL_C= OPTIMAL_C,\n",
    "              CROSSOVER_PROBABILITY= CROSSOVER_PROBABILITY,\n",
    "              MUTATION_PROBABILITY= MUTATION_PROBABILITY,\n",
    "              W_MAX= W_MAX,\n",
    "              W_MIN= W_MIN,\n",
    "              C1= C1,\n",
    "              C2= C2,\n",
    "              RHO_0= RHO_0,\n",
    "              ETA= ETA,\n",
    "              BROADCAST_FRACTION= BROADCAST_FRACTION,\n",
    "              ASEXUAL_FRACTION= ASEXUAL_FRACTION,\n",
    "              PREDATION_FRACTION= PREDATION_FRACTION,\n",
    "              ASEXUAL_PROBABILITY= ASEXUAL_PROBABILITY,\n",
    "              PREDATION_PROBABILITY= PREDATION_PROBABILITY)\n",
    "# end seeds for\n",
    "print(\"All seeds finished!\")\n",
    "\n"
   ]
  }
 ],
 "metadata": {
  "kernelspec": {
   "display_name": "base",
   "language": "python",
   "name": "python3"
  },
  "language_info": {
   "codemirror_mode": {
    "name": "ipython",
    "version": 3
   },
   "file_extension": ".py",
   "mimetype": "text/x-python",
   "name": "python",
   "nbconvert_exporter": "python",
   "pygments_lexer": "ipython3",
   "version": "3.9.12"
  },
  "orig_nbformat": 4,
  "vscode": {
   "interpreter": {
    "hash": "f78ee2afb6780ee7c503ce8574de99235e0dee811ecbe3bf0e97bc56f6e68502"
   }
  }
 },
 "nbformat": 4,
 "nbformat_minor": 2
}
