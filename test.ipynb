{
 "cells": [
  {
   "cell_type": "code",
   "execution_count": 8,
   "metadata": {},
   "outputs": [
    {
     "name": "stdout",
     "output_type": "stream",
     "text": [
      "Executing ELM with seed 144 for dataset: adult.csv, 1 out of 81\n",
      "Executing ELM with seed 144 for dataset: balance-scale.csv, 2 out of 81\n",
      "Executing ELM with seed 144 for dataset: balloons-a.csv, 3 out of 81\n",
      "Executing ELM with seed 144 for dataset: balloons-b.csv, 4 out of 81\n",
      "Executing ELM with seed 144 for dataset: balloons-c.csv, 5 out of 81\n",
      "Executing ELM with seed 144 for dataset: balloons-d.csv, 6 out of 81\n",
      "Executing ELM with seed 144 for dataset: banknote-authentication.csv, 7 out of 81\n",
      "Executing ELM with seed 144 for dataset: blood-transfusion-service-center.csv, 8 out of 81\n",
      "Executing ELM with seed 144 for dataset: breast-cancer-wisconsin-diagnostic.csv, 9 out of 81\n",
      "Executing ELM with seed 144 for dataset: breast-cancer-wisconsin-prognostic.csv, 10 out of 81\n",
      "Executing ELM with seed 144 for dataset: breast-cancer-wisconsin.csv, 11 out of 81\n",
      "Executing ELM with seed 144 for dataset: breast-cancer.csv, 12 out of 81\n",
      "Executing ELM with seed 144 for dataset: car-evaluation.csv, 13 out of 81\n",
      "Executing ELM with seed 144 for dataset: chess-king-rook-vs-king-pawn.csv, 14 out of 81\n",
      "Executing ELM with seed 144 for dataset: chess-king-rook-vs-king.csv, 15 out of 81\n",
      "Executing ELM with seed 144 for dataset: climate-model-simulation-crashes.csv, 16 out of 81\n",
      "Executing ELM with seed 144 for dataset: cnae-9.csv, 17 out of 81\n",
      "Executing ELM with seed 144 for dataset: congressional-voting-records.csv, 18 out of 81\n",
      "Executing ELM with seed 144 for dataset: connectionist-bench-sonar.csv, 19 out of 81\n",
      "Executing ELM with seed 144 for dataset: connectionist-bench.csv, 20 out of 81\n",
      "Executing ELM with seed 144 for dataset: contraceptive-method-choice.csv, 21 out of 81\n",
      "Executing ELM with seed 144 for dataset: credit-approval.csv, 22 out of 81\n",
      "Executing ELM with seed 144 for dataset: dermatology.csv, 23 out of 81\n",
      "Executing ELM with seed 144 for dataset: electrical-grid.csv, 24 out of 81\n",
      "Executing ELM with seed 144 for dataset: fertility.csv, 25 out of 81\n",
      "Executing ELM with seed 144 for dataset: glass-identification.csv, 26 out of 81\n",
      "Executing ELM with seed 144 for dataset: haberman-survival.csv, 27 out of 81\n",
      "Executing ELM with seed 144 for dataset: hayes-roth.csv, 29 out of 81\n",
      "Executing ELM with seed 144 for dataset: heart-disease-cleveland.csv, 30 out of 81\n",
      "Executing ELM with seed 144 for dataset: heart-disease-hungarian.csv, 31 out of 81\n",
      "Executing ELM with seed 144 for dataset: hepatitis.csv, 32 out of 81\n",
      "Executing ELM with seed 144 for dataset: hill-valley-noise.csv, 33 out of 81\n",
      "Executing ELM with seed 144 for dataset: hill-valley.csv, 34 out of 81\n",
      "Executing ELM with seed 144 for dataset: horse-colic.csv, 35 out of 81\n",
      "Executing ELM with seed 144 for dataset: indian-liver-patient.csv, 37 out of 81\n",
      "Executing ELM with seed 144 for dataset: iris.csv, 39 out of 81\n",
      "Executing ELM with seed 144 for dataset: letter-recognition.csv, 40 out of 81\n",
      "Executing ELM with seed 144 for dataset: libras-movement.csv, 41 out of 81\n",
      "Executing ELM with seed 144 for dataset: lung-cancer.csv, 42 out of 81\n",
      "Executing ELM with seed 144 for dataset: magic-gamma-telescope.csv, 43 out of 81\n",
      "Executing ELM with seed 144 for dataset: mammographic-mass.csv, 44 out of 81\n",
      "Executing ELM with seed 144 for dataset: monks-problems-1.csv, 45 out of 81\n",
      "Executing ELM with seed 144 for dataset: monks-problems-2.csv, 46 out of 81\n",
      "Executing ELM with seed 144 for dataset: monks-problems-3.csv, 47 out of 81\n",
      "Executing ELM with seed 144 for dataset: mushroom.csv, 48 out of 81\n",
      "Executing ELM with seed 144 for dataset: ozone-level-detection-eight.csv, 50 out of 81\n",
      "Executing ELM with seed 144 for dataset: ozone-level-detection-one.csv, 51 out of 81\n",
      "Executing ELM with seed 144 for dataset: parkinsons.csv, 52 out of 81\n",
      "Executing ELM with seed 144 for dataset: pen-based-recognition-handwritten-digits.csv, 53 out of 81\n",
      "Executing ELM with seed 144 for dataset: planning-relax.csv, 54 out of 81\n",
      "Executing ELM with seed 144 for dataset: poker-hand.csv, 55 out of 81\n",
      "Executing ELM with seed 144 for dataset: qsar-biodegradation.csv, 56 out of 81\n",
      "Executing ELM with seed 144 for dataset: seeds.csv, 57 out of 81\n",
      "Executing ELM with seed 144 for dataset: skin-segmentation.csv, 59 out of 81\n",
      "Executing ELM with seed 144 for dataset: soybean-small.csv, 60 out of 81\n",
      "Executing ELM with seed 144 for dataset: spambase.csv, 61 out of 81\n",
      "Executing ELM with seed 144 for dataset: spect-heart.csv, 62 out of 81\n",
      "Executing ELM with seed 144 for dataset: spectf-heart.csv, 63 out of 81\n",
      "Executing ELM with seed 144 for dataset: statlog-project-german-credit.csv, 64 out of 81\n",
      "Executing ELM with seed 144 for dataset: statlog-project-landsat-satellite.csv, 65 out of 81\n",
      "Executing ELM with seed 144 for dataset: teaching-assistant-evaluation.csv, 66 out of 81\n",
      "Executing ELM with seed 144 for dataset: thoracic-surgery.csv, 67 out of 81\n",
      "Executing ELM with seed 144 for dataset: thyroid-disease-allbp.csv, 68 out of 81\n",
      "Executing ELM with seed 144 for dataset: thyroid-disease-allhyper.csv, 69 out of 81\n",
      "Executing ELM with seed 144 for dataset: thyroid-disease-allrep.csv, 70 out of 81\n",
      "Executing ELM with seed 144 for dataset: thyroid-disease-ann-thyroid.csv, 71 out of 81\n",
      "Executing ELM with seed 144 for dataset: thyroid-disease-dis.csv, 72 out of 81\n",
      "Executing ELM with seed 144 for dataset: thyroid-disease-new-thyroid.csv, 73 out of 81\n",
      "Executing ELM with seed 144 for dataset: thyroid-disease-sick-euthyroid.csv, 74 out of 81\n",
      "Executing ELM with seed 144 for dataset: thyroid-disease-sick.csv, 75 out of 81\n",
      "Executing ELM with seed 144 for dataset: tic-tac-toe-endgame.csv, 76 out of 81\n",
      "Executing ELM with seed 144 for dataset: wall-following-robot-navigation-2.csv, 77 out of 81\n",
      "Executing ELM with seed 144 for dataset: wall-following-robot-navigation-24.csv, 78 out of 81\n",
      "Executing ELM with seed 144 for dataset: weight-lifting-exercises.csv, 79 out of 81\n",
      "Executing ELM with seed 144 for dataset: wine.csv, 80 out of 81\n",
      "Executing ELM with seed 144 for dataset: yeast.csv, 81 out of 81\n",
      "Seed 144 finished\n",
      "All seeds finished, results saved to results.xlsx\n"
     ]
    }
   ],
   "source": [
    "# Create a particle from the classes and functions defined in the Bio-Inspired-ELM notebook from the same directory\n",
    "%run Bio-Inspired-ELM.ipynb\n",
    "\n",
    "\n",
    "\n"
   ]
  }
 ],
 "metadata": {
  "kernelspec": {
   "display_name": "base",
   "language": "python",
   "name": "python3"
  },
  "language_info": {
   "codemirror_mode": {
    "name": "ipython",
    "version": 3
   },
   "file_extension": ".py",
   "mimetype": "text/x-python",
   "name": "python",
   "nbconvert_exporter": "python",
   "pygments_lexer": "ipython3",
   "version": "3.9.12 (main, Apr  4 2022, 05:22:27) [MSC v.1916 64 bit (AMD64)]"
  },
  "orig_nbformat": 4,
  "vscode": {
   "interpreter": {
    "hash": "f78ee2afb6780ee7c503ce8574de99235e0dee811ecbe3bf0e97bc56f6e68502"
   }
  }
 },
 "nbformat": 4,
 "nbformat_minor": 2
}
